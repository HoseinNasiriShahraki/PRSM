{
 "cells": [
  {
   "cell_type": "code",
   "execution_count": 2,
   "metadata": {},
   "outputs": [],
   "source": [
    "import os"
   ]
  },
  {
   "cell_type": "code",
   "execution_count": 3,
   "metadata": {},
   "outputs": [],
   "source": [
    "Data_path = \"C:/Users/hosei/Documents/DataSets/PGSRB\""
   ]
  },
  {
   "cell_type": "code",
   "execution_count": 9,
   "metadata": {},
   "outputs": [
    {
     "name": "stdout",
     "output_type": "stream",
     "text": [
      "C:\\Users\\hosei\\Documents\\DataSets\\PGSRB\n"
     ]
    }
   ],
   "source": [
    "import os\n",
    " \n",
    "os.chdir(Data_path)\n",
    "print(os.getcwd())\n",
    " \n",
    "for count, f in enumerate(os.listdir()):\n",
    "    f_name, f_ext = os.path.splitext(f)\n",
    "    f_name = str(count)\n",
    " \n",
    "    new_name = f'{f_name}{f_ext}'\n",
    "    os.rename(f, new_name)"
   ]
  },
  {
   "cell_type": "code",
   "execution_count": 10,
   "metadata": {},
   "outputs": [
    {
     "ename": "IndexError",
     "evalue": "list index out of range",
     "output_type": "error",
     "traceback": [
      "\u001b[1;31m---------------------------------------------------------------------------\u001b[0m",
      "\u001b[1;31mIndexError\u001b[0m                                Traceback (most recent call last)",
      "\u001b[1;32mc:\\Users\\hosei\\Documents\\GIT\\PRSM\\PRSM.ipynb Cell 4\u001b[0m line \u001b[0;36m7\n\u001b[0;32m      <a href='vscode-notebook-cell:/c%3A/Users/hosei/Documents/GIT/PRSM/PRSM.ipynb#W3sZmlsZQ%3D%3D?line=4'>5</a>\u001b[0m \u001b[39mdir\u001b[39m \u001b[39m=\u001b[39m Data_path\u001b[39m+\u001b[39m\u001b[39m\"\u001b[39m\u001b[39m/\u001b[39m\u001b[39m\"\u001b[39m\u001b[39m+\u001b[39m\u001b[39mstr\u001b[39m(i)\n\u001b[0;32m      <a href='vscode-notebook-cell:/c%3A/Users/hosei/Documents/GIT/PRSM/PRSM.ipynb#W3sZmlsZQ%3D%3D?line=5'>6</a>\u001b[0m \u001b[39mfor\u001b[39;00m j \u001b[39min\u001b[39;00m \u001b[39mrange\u001b[39m (\u001b[39m750\u001b[39m):\n\u001b[1;32m----> <a href='vscode-notebook-cell:/c%3A/Users/hosei/Documents/GIT/PRSM/PRSM.ipynb#W3sZmlsZQ%3D%3D?line=6'>7</a>\u001b[0m     filename \u001b[39m=\u001b[39m random\u001b[39m.\u001b[39;49mchoice(os\u001b[39m.\u001b[39;49mlistdir(\u001b[39mdir\u001b[39;49m))\n\u001b[0;32m      <a href='vscode-notebook-cell:/c%3A/Users/hosei/Documents/GIT/PRSM/PRSM.ipynb#W3sZmlsZQ%3D%3D?line=7'>8</a>\u001b[0m     path \u001b[39m=\u001b[39m os\u001b[39m.\u001b[39mpath\u001b[39m.\u001b[39mjoin(\u001b[39mdir\u001b[39m, filename)\n\u001b[0;32m      <a href='vscode-notebook-cell:/c%3A/Users/hosei/Documents/GIT/PRSM/PRSM.ipynb#W3sZmlsZQ%3D%3D?line=8'>9</a>\u001b[0m     shutil\u001b[39m.\u001b[39mmove(path, \u001b[39m\"\u001b[39m\u001b[39mC:/Users/hosei/Documents/DataSets/test/\u001b[39m\u001b[39m\"\u001b[39m)\n",
      "File \u001b[1;32mc:\\Users\\hosei\\anaconda3\\lib\\random.py:346\u001b[0m, in \u001b[0;36mRandom.choice\u001b[1;34m(self, seq)\u001b[0m\n\u001b[0;32m    344\u001b[0m \u001b[39m\u001b[39m\u001b[39m\"\"\"Choose a random element from a non-empty sequence.\"\"\"\u001b[39;00m\n\u001b[0;32m    345\u001b[0m \u001b[39m# raises IndexError if seq is empty\u001b[39;00m\n\u001b[1;32m--> 346\u001b[0m \u001b[39mreturn\u001b[39;00m seq[\u001b[39mself\u001b[39;49m\u001b[39m.\u001b[39;49m_randbelow(\u001b[39mlen\u001b[39;49m(seq))]\n",
      "\u001b[1;31mIndexError\u001b[0m: list index out of range"
     ]
    }
   ],
   "source": [
    "import os\n",
    "import random\n",
    "import shutil\n",
    "for i in range(17):\n",
    "    dir = Data_path+\"/\"+str(i)\n",
    "    for j in range (750):\n",
    "        filename = random.choice(os.listdir(dir))\n",
    "        path = os.path.join(dir, filename)\n",
    "        shutil.move(path, \"C:/Users/hosei/Documents/DataSets/test/\")"
   ]
  },
  {
   "cell_type": "code",
   "execution_count": null,
   "metadata": {},
   "outputs": [],
   "source": [
    "# Python 3 code to rename multiple \n",
    "# files in a directory or folder\n",
    "\n",
    "# importing os module\n",
    "import os\n",
    "\n",
    "# Function to rename multiple files\n",
    "def main():\n",
    "    for i in range(1,17):\n",
    "        folder = Data_path+str(i)+\"/\"\n",
    "        for count, filename in enumerate(os.listdir(folder)):\n",
    "            dst = f\"{str(count)}.jpg\"\n",
    "            src =f\"{folder}/{filename}\" # foldername/filename, if .py file is outside folder\n",
    "            dst =f\"{folder}/{dst}\"\n",
    "            \n",
    "            # rename() function will\n",
    "            # rename all the files\n",
    "            os.rename(src, dst)\n",
    "\n",
    "# Driver Code\n",
    "if __name__ == '__main__':\n",
    "\t\n",
    "\t# Calling main() function\n",
    "\tmain()\n"
   ]
  }
 ],
 "metadata": {
  "kernelspec": {
   "display_name": "base",
   "language": "python",
   "name": "python3"
  },
  "language_info": {
   "codemirror_mode": {
    "name": "ipython",
    "version": 3
   },
   "file_extension": ".py",
   "mimetype": "text/x-python",
   "name": "python",
   "nbconvert_exporter": "python",
   "pygments_lexer": "ipython3",
   "version": "3.9.18"
  }
 },
 "nbformat": 4,
 "nbformat_minor": 2
}
